{
 "cells": [
  {
   "cell_type": "markdown",
   "metadata": {},
   "source": [
    "# Exercise Sheet #8\n",
    "\n",
    "## Exercise 1\n",
    "\n",
    "For this exercise, you are require to write SPARQL queries and to check their answer on the following SPARQL endpoint: https://dbpedia.org/sparql.\n",
    "\n",
    "The following prefixes will be useful:\n",
    "- PREFIX dbo: <http://dbpedia.org/ontology/>\n",
    "- PREFIX dbr: <http://dbpedia.org/resource/>\n",
    "- PREFIX dbp: <http://dbpedia.org/property/>\n",
    "\n",
    "### Question 1.1\n",
    "\n",
    "- Look up http://dbpedia.org/page/Alan_Bean. Write a query to retrieve the abstract.\n"
   ]
  },
  {
   "cell_type": "code",
   "execution_count": 2,
   "metadata": {},
   "outputs": [
    {
     "name": "stdout",
     "output_type": "stream",
     "text": [
      "Collecting sparqlwrapper\n",
      "  Downloading SPARQLWrapper-2.0.0-py3-none-any.whl (28 kB)\n",
      "Collecting rdflib>=6.1.1\n",
      "  Downloading rdflib-6.2.0-py3-none-any.whl (500 kB)\n",
      "\u001b[2K     \u001b[90m━━━━━━━━━━━━━━━━━━━━━━━━━━━━━━━━━━━━━━\u001b[0m \u001b[32m500.3/500.3 kB\u001b[0m \u001b[31m15.1 MB/s\u001b[0m eta \u001b[36m0:00:00\u001b[0m\n",
      "\u001b[?25hRequirement already satisfied: setuptools in /home/manil/miniconda3/envs/dscourse/lib/python3.7/site-packages (from rdflib>=6.1.1->sparqlwrapper) (65.6.3)\n",
      "Collecting isodate\n",
      "  Downloading isodate-0.6.1-py2.py3-none-any.whl (41 kB)\n",
      "\u001b[2K     \u001b[90m━━━━━━━━━━━━━━━━━━━━━━━━━━━━━━━━━━━━━━━━\u001b[0m \u001b[32m41.7/41.7 kB\u001b[0m \u001b[31m7.0 MB/s\u001b[0m eta \u001b[36m0:00:00\u001b[0m\n",
      "\u001b[?25hRequirement already satisfied: importlib-metadata in /home/manil/miniconda3/envs/dscourse/lib/python3.7/site-packages (from rdflib>=6.1.1->sparqlwrapper) (6.0.0)\n",
      "Collecting pyparsing\n",
      "  Using cached pyparsing-3.0.9-py3-none-any.whl (98 kB)\n",
      "Requirement already satisfied: typing-extensions>=3.6.4 in /home/manil/miniconda3/envs/dscourse/lib/python3.7/site-packages (from importlib-metadata->rdflib>=6.1.1->sparqlwrapper) (4.4.0)\n",
      "Requirement already satisfied: zipp>=0.5 in /home/manil/miniconda3/envs/dscourse/lib/python3.7/site-packages (from importlib-metadata->rdflib>=6.1.1->sparqlwrapper) (3.11.0)\n",
      "Requirement already satisfied: six in /home/manil/miniconda3/envs/dscourse/lib/python3.7/site-packages (from isodate->rdflib>=6.1.1->sparqlwrapper) (1.16.0)\n",
      "Installing collected packages: pyparsing, isodate, rdflib, sparqlwrapper\n",
      "Successfully installed isodate-0.6.1 pyparsing-3.0.9 rdflib-6.2.0 sparqlwrapper-2.0.0\n"
     ]
    }
   ],
   "source": [
    "!pip install sparqlwrapper"
   ]
  },
  {
   "cell_type": "code",
   "execution_count": 4,
   "metadata": {},
   "outputs": [
    {
     "name": "stdout",
     "output_type": "stream",
     "text": [
      "Alan Lavern Bean (Wheeler, 15 de març de 1932 - Houston, 26 de maig de 2018) fou un astronauta de la NASA i ha estat el quart home en trepitjar la Lluna amb la missió Apollo 12 el novembre de 1969 (a l'edat de 37 anys), durant el projecte Apollo.\n",
      "Alan LaVern Bean (15. března 1932 , Texas – 26. května 2018 Houston) byl americký astronaut z projektů Apollo a Skylab. Stal se čtvrtým člověkem, který stanul na povrchu Měsíce.\n",
      "ألان بين (بالإنجليزية: Alan Bean)‏ هو أحد رواد الفضاء الأمريكيين لذين هبطوا على القمر خلال رحلات برنامج أبولو. ولد في 15 مارس 1932 وهو رابع رائد فضاء يمشي على سطح القمر حيث قام برحلة أبولو 12. وكان ذلك وعمره 36 عاما في نوفمبر 1969.\n",
      "Alan LaVern Bean (* 15. März 1932 in , Texas; † 26. Mai 2018 in Houston, Texas) war ein US-amerikanischer Astronaut. Er war der vierte Mensch auf dem Mond.\n",
      "Alan LaVern Bean (March 15, 1932 – May 26, 2018) was an American naval officer and aviator, aeronautical engineer, test pilot, NASA astronaut and painter; he was the fourth person to walk on the Moon. He was selected to become an astronaut by NASA in 1963 as part of Astronaut Group 3. Before becoming an astronaut, Bean graduated with a Bachelor of Science degree in Aeronautical Engineering from University of Texas at Austin in 1955 and re-joined the U.S. Navy—he served as an enlisted member for a year after his high school graduation. He received his naval aviator wings in 1956 and served as a fighter pilot. In 1960, he graduated from the U.S. Naval Test Pilot School, flew as a test pilot and was The New Nine selection finalist in 1962. He made his first flight into space aboard Apollo 12, the second crewed mission to land on the Moon, at age 37 in November 1969. He made his second and final flight into space on the Skylab 3 mission in 1973, the second crewed mission to the Skylab space station. After retiring from the United States Navy in 1975 and NASA in 1981, he pursued his interest in painting, depicting various space-related scenes and documenting his own experiences in space as well as those of his fellow Apollo program astronauts. He was the last living crew member of Apollo 12.\n",
      "Alan LaVern Bean (Wheeler, Texas; 15 de marzo de 1932-Houston, 26 de mayo de 2018) fue un oficial naval estadounidense y aviador naval, ingeniero aeronáutico, piloto de pruebas y astronauta de la NASA; fue la cuarta persona en caminar sobre la Luna. Fue seleccionado para convertirse en astronauta por la NASA en 1963. Hizo su primer vuelo al espacio a bordo del Apolo 12, la segunda misión tripulada para aterrizar en la Luna, a los 37 años en noviembre de 1969. Hizo su segundo y último vuelo al espacio en la misión Skylab 3 en 1973, la segunda misión tripulada a la estación espacial Skylab. Después de retirarse de la Armada de los Estados Unidos en 1975 y de la NASA en 1981, siguió su interés por la pintura, representando diversas escenas relacionadas con el espacio y documentando sus propias experiencias en el espacio, así como la de sus compañeros astronautas del programa Apolo. Fue el último miembro vivo de la tripulación del Apolo 12.\n",
      "Alan LaVern Bean (Wheeler, Texas 1932ko martxoaren 15a – Houston, 2018ko maiatzaren 26a) NASAko astronauta, ingeniari eta margolaria izan zen. Txikitatik interesatu zitzaion. Apolo 12 misioan parte hartu zuen eta, misio hartan parte hartu zuen Pete Conrad-en antza, Ingeniaritza aeronautikoa ikasi zuen, eta, Marinan pilotu gisa jardun zuen, NASAn sartu baino lehen. 1973. urtean espaziora bueltatu zen, misioan parte hartu baitzuen. Bidai hartan, bi hilabetez orbitan egon zen. 49 urterekin erretiratu zen, margolaritzara dedikatzeko asmoarekin. Bere hitzak jarraituz, \"Ilargian egonda hauxe pentsatu nuen: Lurrera bizirik bueltatzekotan nire bizitza nahi dudan erara biziko dut\". Hura izan zen artista izatera bultzatu ziona. Horrexegatik, Ilargian egondako artista bakarra da. Berak dioenez, artista pribilegiatua da, inork izan duen bista ikusi baitu, Lurraren bista Ilargiatik, alegia. \n",
      "* Datuak: Q310924 \n",
      "* Multimedia: Alan Bean\n",
      "Alan LaVern Bean dit Al Bean, né le 15 mars 1932 à Wheeler (Texas) et mort le 26 mai 2018 à Houston (Texas), est un pilote d'essais et un astronaute américain de la NASA. Il se pose sur la Lune le 19 novembre 1969 dans le cadre de Apollo 12, deuxième mission du Programme Apollo ayant atteint le sol lunaire. Il séjourne deux mois à bord de la station spatiale Skylab (1973) en tant que commandant de la mission Skylab 3. Depuis le décès de Richard Gordon le 6 novembre 2017, Alan Bean était le dernier survivant de l'équipage d'Apollo 12.\n",
      "Alan LaVern Bean (15 Maret 1932 – 26 Mei 2018) adalah seorang perwira, penerbang Angkatan Laut Amerika Serikat, insinyur penerbangan, pilot uji coba, dan astronaut NASA. Ia adalah orang keempat yang berjalan di Bulan. Ia terpilih menjadi astronaut oleh NASA pada tahun 1963 sebagai bagian dari . Ia melakukan penerbangan pertamanya ke luar angkasa di atas kapal Apollo 12, misi berawak kedua untuk mendarat di Bulan, pada usia 37 di bulan November 1969. Ia melakukan penerbangan kedua dan terakhirnya ke luar angkasa pada misi pada tahun 1973, misi berawak kedua menuju stasiun luar angkasa Skylab. Setelah pensiun dari Angkatan Laut Amerika Serikat pada tahun 1975 dan NASA pada tahun 1981, ia mengejar minatnya dalam melukis, yang menggambarkan berbagai adegan yang berhubungan dengan ruang angkasa dan mendokumentasikan pengalamannya sendiri di ruang angkasa dan juga dari sesama astronaut yang mengikuti program Apollo.\n",
      "Alan LaVern Bean (Wheeler, 15 marzo 1932 – Houston, 26 maggio 2018) è stato un astronauta statunitense. Fu il quarto uomo ad avere camminato sulla Luna.\n",
      "アラン・ラバーン・ビーン（Alan LaVern Bean、1932年3月15日 - 2018年5月26日）は、アメリカ航空宇宙局の宇宙飛行士、技術者で、1969年11月、37歳の時に人類で4番目に月面を歩いた。\n",
      "Alan LaVern Bean (Wheeler, 15 de março de 1932 – Houston, 26 de maio de 2018) foi um astronauta norte-americano, integrante da missão Apollo 12 e o quarto homem a pisar na Lua. Nascido no Texas, doutor em ciências e ex-piloto de caças, foi selecionado em 1963 para o grupo de astronautas da NASA e em seu primeiro vôo espacial, seis anos depois, assumiu o posto de piloto do Módulo Lunar Intrepid na missão Apollo 12, a segunda a pousar na Lua, na área chamada de Oceano das Tormentas, em 19 de novembro de 1969. De julho a setembro de 1973 ele comandou a missão Skylab 3, a segunda equipe do laboratório espacial Skylab, junto com os astronautas Jack Lousma e Owen Garriott, passando um total de treze horas trabalhando fora da nave, durante a missão de 59 dias em órbita. Em 1981, depois de quase vinte anos na NASA, Bean encerrou sua carreira e tornou-se pintor, ficando rico com seus quadros, que mostram, segundo ele, imagens nunca vistas pessoalmente por outros artistas, baseadas em tudo que pode ver e sentir durante seus anos de astronauta e suas experiências na Lua e no espaço. Em setembro de 2016, aos 84 anos, ele inaugurou uma estátua criada em sua homenagem em sua cidade natal, em frente ao Wheeler Historical Museum.\n",
      "Alan LaVern Bean (Wheeler (Texas), 15 maart 1932 – Houston, 26 mei 2018) was een Amerikaans astronaut en de vierde man die de maan mocht betreden. Bean werd geboren in Wheeler in Texas en opgeleid tot luchtvaartkundige aan de Universiteit van Texas. Hij diende 4 jaar als gevechtspiloot en werd vervolgens testpiloot bij de Amerikaanse marine. De National Aeronautics and Space Administration selecteerde hem in 1963 en voor de reis van Apollo 12 verkoos men hem tot piloot van de maanlander.Op 19 november 1969 landde de maanlander van de Apollo 12 ten noorden van Mare Cognitum, een gebied dat eerder was bezocht door de onbemande robots Loenik 5, Ranger 7 en Surveyor 3. Bean betrad de maan een half uur na zijn collega Charles Conrad.Tijdens deze expeditie werden delen van de Surveyor 3 meegenomen om op aarde te bestuderen. Op de maan werd, naast een paar verloren filmrolletjes, ook de vlag van Beans middelbare school achtergelaten. Na zijn maanavontuur was de belangrijkste opdracht van Bean het commando van Skylab 3 in 1973. Na zijn pensioen in 1981 ging hij schilderen. Bean verwerkte echt maanstof en maansteentjes in zijn oeuvre. Alan Bean werd in mei 2018 plotseling ziek tijdens een reis in Fort Wayne, Indiana, waarna hij twee weken later stierf in het Houston Methodist Hospital te Houston.\n",
      "Алан Лаверн Бин (англ. Alan LaVern Bean; 15 марта 1932, Уилер, Техас — 26 мая 2018) — астронавт США. Четвёртый человек, ступивший на поверхность Луны.\n",
      "Alan LaVern Bean (ur. 15 marca 1932 w Wheeler w stanie Teksas, zm. 26 maja 2018 w Houston) – amerykański astronauta, komandor United States Navy, czwarty człowiek, który stanął na powierzchni Księżyca (19 listopada 1969). Po zakończeniu kariery zajmował się malarstwem.\n",
      "Алан Лаверн Бін (англ. Alan Bean; 15 березня 1932Бин_Алан_//_[[:ru:Большая_советская_энциклопедия_(третье_издание)|Большая_советская_энциклопедия]]:_[в_30_т.]_/_под_ред._[[:Прохоров_Олександр_Михайлович|А. М. Прохоров]]_—_3-е_изд._—_[[:Москва|Москва]]:_[[:Велика_російська_енциклопедія_(видавництво)|Советская_энциклопедия]],_1969.[[d:Track:Q649]][[d:Track:Q17378135]]\n",
      "Alan LaVern Bean, född 15 mars 1932 i Wheeler, Texas, död 26 maj 2018 i Houston i Texas, var en amerikansk astronaut. Han blev uttagen i astronautgrupp 3 den 17 oktober 1963 för Apolloprogrammet. Asteroiden 13606 Bean är uppkallad efter honom.\n",
      "艾伦·拉文·宾（英語：Alan LaVern Bean，1932年3月15日－2018年5月26日）曾是一位美国国家航空航天局的宇航员，执行过阿波罗12号以及天空实验室3号任务。执行阿波罗12号任务时，宾成为了第四个踏上月球的人。 宾出生于德克萨斯州的维勒（Wheeler），从德克萨斯州沃斯堡的帕斯卡高中（R. L. Paschal High School）毕业，1955年在德州大学奥斯汀分校获得宇航工程学士学位。四年的战斗机飞行员生涯后，宾开始接受海军试飞员训练，他的教官恰好是日后阿波罗12号的指令长皮特·康拉德。德克萨斯州卫斯理大学（Texas Wesleyan University）1972年授予宾荣誉博士学位，他还于1974年在俄亥俄州的阿克伦大学（University of Akron）获得了荣誉工程科学博士学位。 1963年，宾被选入美国国家航空航天局的第三组宇航员。宾被指派担任双子星10号的替补指令飞行员，但在一次早期阿波罗飞行任务中表现不佳，未被选中，暂时被安排在阿波罗应用计划中。同一批的克里夫顿·威廉姆斯（Clifton Williams）因飞机事故而丧生后，宾被选入了阿波罗9号的替补团队。 宾在阿波罗12号任务中担任登月舱驾驶员，完成了历史上第二次登月任务。1969年11月，皮特·康拉德和宾先后成为了第三、第四个踏上月球的人类。他们在风暴海放置了一些月表实验设备，并安装了第一个月表核能发电站。任务期间，阿波罗12号的指令舱驾驶员理查德·戈尔登留在月球轨道中为后来的登月任务拍摄了许多照片。 宾在1973年7月29日至9月25日进行的天空实验室3号任务中担任了指令长。在这次59天的任务中，宾与物理学家欧文·加里欧特和杰克·洛斯马在地球轨道中飞行了创纪录的2440万英里。任务期间，宾测试了一种载人机动装置的模型。宾后来在美国首次与前苏联合作的阿波罗-联盟测试计划中担任替补指令长。 1975年10月，宾从美国海军退役，军衔为上校。退役后的宾继续以平民身份在航空航天局担任候选宇航员任务及训练小组组长。 宾于1981年6月从航空航天局辞职，拿出全部精力进行油画创作；他的许多作品被卖给了航天爱好者。关于这一决定，宾曾表示这个决定来源于在他十八年的宇航员生涯中，他很幸运地去过一些画家们从未去过的地方，他的亲身经历能够使他以绘画这种形式展现他的所见所闻。他的画室就位于他在休斯敦的家中。作为一名画家，宾希望给月亮多添一些色彩，他曾说过： 宾使用的颜料是独一无二的——里面掺了月球上的尘土。 宾婚后育有一子一女。电视短剧《从地球到月球》中的第七集“也就这么多”以宾的角度描述了阿波罗12号任务，宾由戴夫·福勒（Dave Foley）扮演。 宾在执行阿波罗12号任务时将就读高中的旗帜以及克里夫顿·威廉姆斯的徽章留在了月球上，以示纪念。\n"
     ]
    }
   ],
   "source": [
    "from SPARQLWrapper import SPARQLWrapper, JSON\n",
    "\n",
    "sparql = SPARQLWrapper(\"http://dbpedia.org/sparql/\")\n",
    "sparql.setQuery(\"\"\"\n",
    "PREFIX dbo: <http://dbpedia.org/ontology/>\n",
    "PREFIX dbr: <http://dbpedia.org/resource/>\n",
    "PREFIX dbp: <http://dbpedia.org/property/>\n",
    "\n",
    "select distinct ?page ?abstract where {\n",
    "?page dbo:wikiPageID 102595;\n",
    "            dbo:abstract ?abstract .\n",
    "} LIMIT 100\n",
    "\"\"\")\n",
    "sparql.setReturnFormat(JSON)\n",
    "results = sparql.query().convert()\n",
    "for result in results[\"results\"][\"bindings\"]:\n",
    "    print(result[\"abstract\"][\"value\"])"
   ]
  },
  {
   "cell_type": "markdown",
   "metadata": {},
   "source": [
    "<!-- write your code in between the backquotes -->\n",
    "```\n",
    "\n",
    "```"
   ]
  },
  {
   "cell_type": "markdown",
   "metadata": {},
   "source": [
    "### Question 1.2\n",
    "- Modify the query to retrieve the abstract in a single language of your choice (e.g., only the french abstract).\n"
   ]
  },
  {
   "cell_type": "code",
   "execution_count": 5,
   "metadata": {},
   "outputs": [
    {
     "name": "stdout",
     "output_type": "stream",
     "text": [
      "Alan LaVern Bean (March 15, 1932 – May 26, 2018) was an American naval officer and aviator, aeronautical engineer, test pilot, NASA astronaut and painter; he was the fourth person to walk on the Moon. He was selected to become an astronaut by NASA in 1963 as part of Astronaut Group 3. Before becoming an astronaut, Bean graduated with a Bachelor of Science degree in Aeronautical Engineering from University of Texas at Austin in 1955 and re-joined the U.S. Navy—he served as an enlisted member for a year after his high school graduation. He received his naval aviator wings in 1956 and served as a fighter pilot. In 1960, he graduated from the U.S. Naval Test Pilot School, flew as a test pilot and was The New Nine selection finalist in 1962. He made his first flight into space aboard Apollo 12, the second crewed mission to land on the Moon, at age 37 in November 1969. He made his second and final flight into space on the Skylab 3 mission in 1973, the second crewed mission to the Skylab space station. After retiring from the United States Navy in 1975 and NASA in 1981, he pursued his interest in painting, depicting various space-related scenes and documenting his own experiences in space as well as those of his fellow Apollo program astronauts. He was the last living crew member of Apollo 12.\n"
     ]
    }
   ],
   "source": [
    "from SPARQLWrapper import SPARQLWrapper, JSON\n",
    "\n",
    "sparql = SPARQLWrapper(\"http://dbpedia.org/sparql/\")\n",
    "sparql.setQuery(\"\"\"\n",
    "PREFIX dbo: <http://dbpedia.org/ontology/>\n",
    "PREFIX dbr: <http://dbpedia.org/resource/>\n",
    "PREFIX dbp: <http://dbpedia.org/property/>\n",
    "\n",
    "select distinct ?page ?abstract where {\n",
    "?page dbo:wikiPageID 102595;\n",
    "            dbo:abstract ?abstract .\n",
    "\n",
    " FILTER (lang(?abstract) = 'en')\n",
    "} LIMIT 100\n",
    "\"\"\")\n",
    "sparql.setReturnFormat(JSON)\n",
    "results = sparql.query().convert()\n",
    "for result in results[\"results\"][\"bindings\"]:\n",
    "    print(result[\"abstract\"][\"value\"])"
   ]
  },
  {
   "cell_type": "markdown",
   "metadata": {},
   "source": [
    "<!-- write your code in between the backquotes -->\n",
    "```\n",
    "\n",
    "```"
   ]
  },
  {
   "cell_type": "markdown",
   "metadata": {},
   "source": [
    "### Question 1.3\n",
    "- Look at how the astronaut profession is specified (in http://dbpedia.org/page/Alan_Bean) and write a query to retrieve all astronauts.\n"
   ]
  },
  {
   "cell_type": "code",
   "execution_count": 12,
   "metadata": {},
   "outputs": [
    {
     "name": "stdout",
     "output_type": "stream",
     "text": [
      "http://dbpedia.org/resource/David_Scott\n",
      "http://dbpedia.org/resource/Vance_D._Brand\n",
      "http://dbpedia.org/resource/Wally_Schirra\n",
      "http://dbpedia.org/resource/Walter_Cunningham\n",
      "http://dbpedia.org/resource/Dick_Scobee\n",
      "http://dbpedia.org/resource/Alan_Bean\n",
      "http://dbpedia.org/resource/Alan_Shepard\n",
      "http://dbpedia.org/resource/Alexei_Leonov\n",
      "http://dbpedia.org/resource/Alfred_Worden\n",
      "http://dbpedia.org/resource/Fred_Haise\n",
      "http://dbpedia.org/resource/Gene_Cernan\n",
      "http://dbpedia.org/resource/Samantha_Cristoforetti\n",
      "http://dbpedia.org/resource/William_Anders\n",
      "http://dbpedia.org/resource/William_Pogue\n",
      "http://dbpedia.org/resource/William_Shepherd\n",
      "http://dbpedia.org/resource/Gerald_Carr_(astronaut)\n",
      "http://dbpedia.org/resource/Marcos_Pontes\n",
      "http://dbpedia.org/resource/Jack_R._Lousma\n",
      "http://dbpedia.org/resource/James_Irwin\n",
      "http://dbpedia.org/resource/Ken_Mattingly\n",
      "http://dbpedia.org/resource/Matthias_Maurer\n",
      "http://dbpedia.org/resource/Clifton_Williams\n",
      "http://dbpedia.org/resource/John_S._Bull\n",
      "http://dbpedia.org/resource/Joseph_A._Walker\n",
      "http://dbpedia.org/resource/Barbara_Morgan\n",
      "http://dbpedia.org/resource/Insa_Thiele-Eich\n",
      "http://dbpedia.org/resource/Mirosław_Hermaszewski\n",
      "http://dbpedia.org/resource/Senku_Ishigami\n",
      "http://dbpedia.org/resource/Charles_Bassett\n",
      "http://dbpedia.org/resource/Charles_Duke\n",
      "http://dbpedia.org/resource/Howard_Wolowitz\n",
      "http://dbpedia.org/resource/Donn_F._Eisele\n",
      "http://dbpedia.org/resource/Duane_Graveline\n",
      "http://dbpedia.org/resource/Gus_Grissom\n",
      "http://dbpedia.org/resource/Richard_F._Gordon_Jr.\n",
      "http://dbpedia.org/resource/Robert_F._Overmyer\n",
      "http://dbpedia.org/resource/Robert_L._Stewart\n",
      "http://dbpedia.org/resource/Roger_B._Chaffee\n",
      "http://dbpedia.org/resource/Jessica_Watkins\n",
      "http://dbpedia.org/resource/Joe_Engle\n",
      "http://dbpedia.org/resource/Peggy_Whitson\n",
      "http://dbpedia.org/resource/Pete_Conrad\n",
      "http://dbpedia.org/resource/Theodore_Freeman\n",
      "http://dbpedia.org/resource/Thomas_P._Stafford\n",
      "http://dbpedia.org/resource/Thomas_Pesquet\n",
      "http://dbpedia.org/resource/Ed_White_(astronaut)\n",
      "http://dbpedia.org/resource/Edgar_Mitchell\n",
      "http://dbpedia.org/resource/Edward_Givens\n",
      "http://dbpedia.org/resource/Elliot_See\n",
      "http://dbpedia.org/resource/Michael_J._McCulley\n",
      "http://dbpedia.org/resource/Michael_J._Smith\n",
      "http://dbpedia.org/resource/Major_Tom\n",
      "http://dbpedia.org/resource/Andreas_Mogensen\n",
      "http://dbpedia.org/resource/Andrew_J._Feustel\n",
      "http://dbpedia.org/resource/Andrew_M._Allen\n",
      "http://dbpedia.org/resource/Daniel_Brandenstein\n",
      "http://dbpedia.org/resource/Daniel_W._Bursch\n",
      "http://dbpedia.org/resource/David_C._Hilmers\n",
      "http://dbpedia.org/resource/David_Leestma\n",
      "http://dbpedia.org/resource/David_M._Walker_(astronaut)\n",
      "http://dbpedia.org/resource/Albert_H._Crews\n",
      "http://dbpedia.org/resource/Francis_G._Neubeck\n",
      "http://dbpedia.org/resource/Frank_L._Culbertson_Jr.\n",
      "http://dbpedia.org/resource/Frederick_Hauck\n",
      "http://dbpedia.org/resource/Frederick_W._Sturckow\n",
      "http://dbpedia.org/resource/G._David_Low\n",
      "http://dbpedia.org/resource/Gary_Payton_(astronaut)\n",
      "http://dbpedia.org/resource/George_Nelson_(astronaut)\n",
      "http://dbpedia.org/resource/William_B._Lenoir\n",
      "http://dbpedia.org/resource/William_C._McCool\n",
      "http://dbpedia.org/resource/William_E._Thornton\n",
      "http://dbpedia.org/resource/William_H._Dana\n",
      "http://dbpedia.org/resource/William_Oefelein\n",
      "http://dbpedia.org/resource/William_S._McArthur\n",
      "http://dbpedia.org/resource/Anthony_W._England\n",
      "http://dbpedia.org/resource/Eric_Boe\n",
      "http://dbpedia.org/resource/Mark_C._Lee\n",
      "http://dbpedia.org/resource/Mark_N._Brown\n",
      "http://dbpedia.org/resource/Terence_T._Henricks\n",
      "http://dbpedia.org/resource/Terrence_W._Wilcutt\n",
      "http://dbpedia.org/resource/Terry_Hart\n",
      "http://dbpedia.org/resource/Brewster_H._Shaw\n",
      "http://dbpedia.org/resource/Brian_Duffy_(astronaut)\n",
      "http://dbpedia.org/resource/Brian_O'Leary\n",
      "http://dbpedia.org/resource/Bruce_E._Melnick\n",
      "http://dbpedia.org/resource/Bruce_McCandless_II\n",
      "http://dbpedia.org/resource/Bryan_D._O'Connor\n",
      "http://dbpedia.org/resource/James_Buchli\n",
      "http://dbpedia.org/resource/James_C._Adamson\n",
      "http://dbpedia.org/resource/James_H._Newman\n",
      "http://dbpedia.org/resource/James_M._Taylor\n",
      "http://dbpedia.org/resource/James_S._Voss\n",
      "http://dbpedia.org/resource/James_W._Wood\n",
      "http://dbpedia.org/resource/James_van_Hoften\n",
      "http://dbpedia.org/resource/Jan_Davis\n",
      "http://dbpedia.org/resource/Kathleen_Rubins\n",
      "http://dbpedia.org/resource/Kathryn_C._Thornton\n",
      "http://dbpedia.org/resource/Ken_Bowersox\n",
      "http://dbpedia.org/resource/Kenneth_D._Cameron\n",
      "http://dbpedia.org/resource/Kenneth_S._Reightler_Jr.\n"
     ]
    }
   ],
   "source": [
    "from SPARQLWrapper import SPARQLWrapper, JSON\n",
    "\n",
    "sparql = SPARQLWrapper(\"http://dbpedia.org/sparql/\")\n",
    "sparql.setQuery(\"\"\"\n",
    "PREFIX dbo: <http://dbpedia.org/ontology/>\n",
    "PREFIX dbr: <http://dbpedia.org/resource/>\n",
    "PREFIX dbp: <http://dbpedia.org/property/>\n",
    "\n",
    "select distinct ?astro where {\n",
    "?astro  dbo:occupation|dbp:occupation|dbp:type dbr:Astronaut .\n",
    "} LIMIT 100\n",
    "\"\"\")\n",
    "sparql.setReturnFormat(JSON)\n",
    "results = sparql.query().convert()\n",
    "for result in results[\"results\"][\"bindings\"]:\n",
    "    print(result[\"astro\"][\"value\"])"
   ]
  },
  {
   "cell_type": "markdown",
   "metadata": {},
   "source": [
    "<!-- write your code in between the backquotes -->\n",
    "```\n",
    "\n",
    "```"
   ]
  },
  {
   "cell_type": "markdown",
   "metadata": {},
   "source": [
    "### Question 1.4\n",
    "- Write a query that counts the nb of astronauts.\n"
   ]
  },
  {
   "cell_type": "code",
   "execution_count": 10,
   "metadata": {},
   "outputs": [
    {
     "name": "stdout",
     "output_type": "stream",
     "text": [
      "85\n"
     ]
    }
   ],
   "source": [
    "from SPARQLWrapper import SPARQLWrapper, JSON\n",
    "\n",
    "sparql = SPARQLWrapper(\"http://dbpedia.org/sparql/\")\n",
    "sparql.setQuery(\"\"\"\n",
    "PREFIX dbo: <http://dbpedia.org/ontology/>\n",
    "PREFIX dbr: <http://dbpedia.org/resource/>\n",
    "PREFIX dbp: <http://dbpedia.org/property/>\n",
    "\n",
    "select distinct COUNT(?astro) AS ?count  where {\n",
    "?astro  dbo:occupation|dbp:occupation|dbp:type dbr:Astronaut .\n",
    "} \n",
    "\"\"\")\n",
    "sparql.setReturnFormat(JSON)\n",
    "results = sparql.query().convert()\n",
    "for result in results[\"results\"][\"bindings\"]:\n",
    "    print(result[\"count\"][\"value\"])"
   ]
  },
  {
   "cell_type": "markdown",
   "metadata": {},
   "source": [
    "<!-- write your code in between the backquotes -->\n",
    "```\n",
    "\n",
    "```"
   ]
  },
  {
   "cell_type": "markdown",
   "metadata": {},
   "source": [
    "### Question 1.5\n",
    "- Retrieve all astronauts and their nationality: Try with and without the OPTIONAL clause; for each query, get the number of astronauts.\n"
   ]
  },
  {
   "cell_type": "code",
   "execution_count": null,
   "metadata": {},
   "outputs": [],
   "source": [
    "\"\"\" \n",
    "PREFIX dbo: <http://dbpedia.org/ontology/>\n",
    "PREFIX dbr: <http://dbpedia.org/resource/>\n",
    "PREFIX dbp: <http://dbpedia.org/property/>\n",
    "\n",
    "select ?astro ?nationality where {\n",
    "?astro  dbo:occupation|dbp:occupation|dbp:type dbr:Astronaut .\n",
    "OPTIONAL {?astro dbo:nationality|dbr:nationality ?nationality}\n",
    "} LIMIT 100\n",
    "\"\"\""
   ]
  },
  {
   "cell_type": "markdown",
   "metadata": {},
   "source": [
    "<!-- write your code in between the backquotes -->\n",
    "```\n",
    "\n",
    "```"
   ]
  },
  {
   "cell_type": "markdown",
   "metadata": {},
   "source": [
    "### Question 1.6\n",
    "- Retrieve all astronauts ordered in reverse alphabetical order .\n"
   ]
  },
  {
   "cell_type": "markdown",
   "metadata": {},
   "source": [
    "<!-- write your code in between the backquotes -->\n",
    "```\n",
    "\n",
    "```"
   ]
  },
  {
   "cell_type": "markdown",
   "metadata": {},
   "source": [
    "### Question 1.7\n",
    "- Retrieve all astronauts grouped by nationality.\n"
   ]
  },
  {
   "cell_type": "markdown",
   "metadata": {},
   "source": [
    "<!-- write your code in between the backquotes -->\n",
    "```\n",
    "\n",
    "```"
   ]
  },
  {
   "cell_type": "markdown",
   "metadata": {},
   "source": [
    "## Exercise 2\n",
    "Using [SPARQLWrapper](https://rdflib.github.io/sparqlwrapper/), write a python program which applies the 7 queries above and display the results.\n"
   ]
  },
  {
   "cell_type": "code",
   "execution_count": null,
   "metadata": {},
   "outputs": [],
   "source": []
  }
 ],
 "metadata": {
  "kernelspec": {
   "display_name": "dscourse",
   "language": "python",
   "name": "python3"
  },
  "language_info": {
   "codemirror_mode": {
    "name": "ipython",
    "version": 3
   },
   "file_extension": ".py",
   "mimetype": "text/x-python",
   "name": "python",
   "nbconvert_exporter": "python",
   "pygments_lexer": "ipython3",
   "version": "3.7.16"
  },
  "vscode": {
   "interpreter": {
    "hash": "ee5048e9dac10b7e1189402e2747a66ae7711ead2ae36bc7fc2cd1ffe3a21462"
   }
  }
 },
 "nbformat": 4,
 "nbformat_minor": 2
}
